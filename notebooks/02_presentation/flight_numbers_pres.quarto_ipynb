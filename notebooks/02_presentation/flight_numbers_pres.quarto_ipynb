{
  "cells": [
    {
      "cell_type": "markdown",
      "metadata": {},
      "source": [
        "---\n",
        "title: \"Flight Numbers: An analysis of the disc golf flight number system\"\n",
        "author: \"Kevin Havis\"\n",
        "format: \n",
        "    revealjs:\n",
        "        smaller: true\n",
        "        theme: moon\n",
        "jupyter: python3\n",
        "execute: \n",
        "  env:\n",
        "    PYTHONPATH: \"../flight_numbers:${PYTHONPATH}\"\n",
        "    virutalenv: .venv\n",
        "---"
      ],
      "id": "d63efd77"
    },
    {
      "cell_type": "code",
      "metadata": {},
      "source": [
        "#| include: false\n",
        "\n",
        "# See https://github.com/kevinhav/d607_final_project/tree/main/flight_numbers for full code\n",
        "\n",
        "import sys\n",
        "import os\n",
        "\n",
        "# Add the root directory to sys.path\n",
        "# TODO figure out how to use relative path with Quarto\n",
        "sys.path.append('/Users/kevinhav/projects/d606_final_project')\n",
        "\n",
        "from flight_numbers import get_data, make_plots\n",
        "import seaborn as sns\n",
        "\n",
        "df = get_data.get_data()"
      ],
      "id": "46d1f7f8",
      "execution_count": null,
      "outputs": []
    },
    {
      "cell_type": "markdown",
      "metadata": {},
      "source": [
        "## Abstract\n",
        "\n",
        "In this paper I consider the flying discs used in the sport of disc golf, specifically exploring the relationship between their physical characteristics and the way manufacturers market and classify these discs - by flight numbers. Using technical specification and manufacturer data, I find strong correlations between the dimensions of a disc's rim to flight numbers, but ultimately conclude that consumers would be best served with a more comprehensive system.\n",
        "\n",
        "## Introduction to disc golf's current climate\n",
        "\n",
        "::: {.notes}\n",
        "- Disc golf is similar to golf, but instead of clubs and balls, we just use discs\n",
        "- We have the same scoring rules, concepts such as part, etc.\n",
        ":::\n",
        "\n",
        "- Disc golf is a relatively new sport that has experienced an explosive growth trajectory in the past couple of decades\n",
        "- COVID 19 pandemic introduced many people to the sport due to ease of access, affordability, and low contact\n",
        "- The sudden influx of new players has also brought new questions, and the industry and community have been turning to data driven science to answer them\n",
        "  \n",
        "## Why is this interesting?\n",
        "\n",
        "::: {.notes}\n",
        "- Disc golf is a sport developing in the same age as modern machine learning\n",
        "- We have a unique opporunity to see a new sport develop with data and technology to support it readily available\n",
        "- Very little \"conventional wisdom\"; we want answers and we want it from data\n",
        ":::\n",
        "\n",
        "- We can see new, unique sports science and experimentation emerge and rapidly evolve\n",
        "- Lots of interesting questions and behaviors in the physics of a discs flight\n",
        "- Great examples of applied data science solving real problems\n",
        "\n",
        "## Flight numbers and their challenges\n",
        "\n",
        "::: {.notes}\n",
        "- These discs are similar yet different from a Frisbee\n",
        "- We use ratings similar to how golf clubs are labeled (e.g. 9 iron), but we lack the specifics associated with them such as loft\n",
        "- (go to simulator) I'd rather show than tell\n",
        ":::\n",
        "\n",
        "![An Innova Destroyer disc golf disc](images/innova_destroyer.jpg)\n",
        "\n",
        "- **Speed**: how fast the disc must be thrown in order to fly as the manufacturer intended\n",
        "- **Glide**: how easily the disc is expected to move through the air\n",
        "- **Turn**: the gyroscopic stability of the disc at *high* speeds (i.e. how the disc acts when first thrown)\n",
        "- **Fade**: the gyroscopic stability of the disc at *low* speeds (i.e. how the disc acts as it finishes its flight)\n",
        "\n",
        "## Comparing the flight number system to physical disc characteristics\n",
        "\n",
        "![Diagram of disc measurements. Source: PDGA Technical Specifications](images/pdga_disc_specifications.png){fig-align=\"center\"}\n",
        "\n",
        "## The data\n"
      ],
      "id": "021469d5"
    },
    {
      "cell_type": "code",
      "metadata": {},
      "source": [
        "df.head()"
      ],
      "id": "129bd903",
      "execution_count": null,
      "outputs": []
    },
    {
      "cell_type": "markdown",
      "metadata": {},
      "source": [
        "## Correlation Matrix\n"
      ],
      "id": "565278fb"
    },
    {
      "cell_type": "code",
      "metadata": {},
      "source": [
        "#| label: fig-corr-plot\n",
        "#| fig-cap: 'Disc correlation '\n",
        "\n",
        "corr_matrix = make_plots.make_correlation_matrix(df)\n",
        "\n",
        "make_plots.make_correlation_plot(corr_matrix)"
      ],
      "id": "fig-corr-plot",
      "execution_count": null,
      "outputs": []
    },
    {
      "cell_type": "markdown",
      "metadata": {},
      "source": [
        "## Speed\n",
        "\n",
        ":::: {.columns}\n",
        "\n",
        "::: {.column width=\"50%\"}\n"
      ],
      "id": "3d08b726"
    },
    {
      "cell_type": "code",
      "metadata": {},
      "source": [
        "make_plots.make_flight_number_hist(df, 'speed')"
      ],
      "id": "a02b980c",
      "execution_count": null,
      "outputs": []
    },
    {
      "cell_type": "markdown",
      "metadata": {},
      "source": [
        ":::\n",
        "\n",
        "::: {.column width=\"50%\"}\n"
      ],
      "id": "9c7a6b0c"
    },
    {
      "cell_type": "code",
      "metadata": {},
      "source": [
        "make_plots.make_scatterplot(df, x='speed', y='rim_thickness_(cm)')"
      ],
      "id": "a52c9eaf",
      "execution_count": null,
      "outputs": []
    },
    {
      "cell_type": "markdown",
      "metadata": {},
      "source": [
        ":::\n",
        "\n",
        "::::\n",
        "\n",
        "## Glide\n",
        "\n",
        ":::: {.columns}\n",
        "\n",
        "::: {.column width=\"50%\"}\n"
      ],
      "id": "1dc73817"
    },
    {
      "cell_type": "code",
      "metadata": {},
      "source": [
        "make_plots.make_flight_number_hist(df, 'glide')"
      ],
      "id": "72374ade",
      "execution_count": null,
      "outputs": []
    },
    {
      "cell_type": "markdown",
      "metadata": {},
      "source": [
        ":::\n",
        "\n",
        "::: {.column widht=\"50%\"}\n"
      ],
      "id": "79269ced"
    },
    {
      "cell_type": "code",
      "metadata": {},
      "source": [
        "make_plots.make_stripplot(df, 'glide', 'speed')"
      ],
      "id": "f9c89229",
      "execution_count": null,
      "outputs": []
    },
    {
      "cell_type": "markdown",
      "metadata": {},
      "source": [
        ":::\n",
        "\n",
        "::::\n",
        "\n",
        "## How a disc flies\n",
        "\n",
        "![A set of flight patterns for different discs. Credit to [Infinite Discs](https://blog.infinitediscs.com/flight-numbers-what-they-mean-and-a-better-approach/)](images/flight_pattern.jpg)\n",
        "\n",
        "## Turn\n",
        "\n",
        ":::: {.columns}\n",
        "\n",
        "::: {.column width=\"50%\"}\n"
      ],
      "id": "0ac8ee26"
    },
    {
      "cell_type": "code",
      "metadata": {},
      "source": [
        "make_plots.make_flight_number_hist(df, 'turn')"
      ],
      "id": "5237fc6b",
      "execution_count": null,
      "outputs": []
    },
    {
      "cell_type": "markdown",
      "metadata": {},
      "source": [
        ":::\n",
        "\n",
        "::: {.column width=\"50%\"}\n"
      ],
      "id": "637a2754"
    },
    {
      "cell_type": "code",
      "metadata": {},
      "source": [
        "#| label: fig-turn-fade\n",
        "\n",
        "make_plots.make_stripplot(df, 'turn', 'fade')"
      ],
      "id": "fig-turn-fade",
      "execution_count": null,
      "outputs": []
    },
    {
      "cell_type": "markdown",
      "metadata": {},
      "source": [
        ":::\n",
        "\n",
        "::::\n",
        "\n",
        "\n",
        "## Fade\n",
        "\n",
        ":::: {.columns}\n",
        "\n",
        "::: {.column width=\"50%\"}\n"
      ],
      "id": "d5cfca11"
    },
    {
      "cell_type": "code",
      "metadata": {},
      "source": [
        "make_plots.make_flight_number_hist(df, 'fade')"
      ],
      "id": "d1bec8ed",
      "execution_count": null,
      "outputs": []
    },
    {
      "cell_type": "markdown",
      "metadata": {},
      "source": [
        ":::\n",
        "\n",
        "::: {.column width=\"50%\"}\n",
        "\n",
        "\n",
        "\n",
        ":::\n",
        "\n",
        "::::\n",
        "\n",
        "## A sport led by data science\n",
        "\n",
        "- [TryDiscs](https://trydiscs.com/explore?&m=Streamline&d=Drift)\n",
        "- [TechDisc](https://shop.techdisc.com/)\n",
        "- [UDisc Ratings](https://udisc.com/blog/post/udisc-round-ratings)\n",
        "- [Immonen, E. Optimal design for disc golf by computational fluid dynamics and machine learning. Struct Multidisc Optim 65, 12 (2022)](https://link.springer.com/article/10.1007/s00158-021-03107-7)\n",
        "\n",
        "\n",
        "## Conclusion\n",
        "\n",
        "- Physical characteristics and flight numbers are correlated\n",
        "- Flight numbers do not necessarily correspond to flight patterns\n",
        "- Much more data is needed to reliable describe flight patterns\n",
        "- Other approaches\n",
        "  - Simulation based (TechDisc)\n",
        "  - Crowd sourced flight ratings (Infinite Discs)\n",
        "  - Controlled experiments (StuffMadeHere)\n",
        "  - Reinforcement learning (Sketches for Humanity)\n",
        "\n",
        "### Additional Information\n",
        "\n",
        "[Brief History of Disc Golf and the PDGA](https://www.pdga.com/history)\n",
        "\n",
        "[Innova Flight Ratings System](https://www.innovadiscs.com/home/disc-golf-faq/flight-ratings-system/)\n",
        "\n",
        "[^1]:[PDGA Equipment Technical Standards](https://www.pdga.com/technical-standards/)"
      ],
      "id": "52127405"
    }
  ],
  "metadata": {
    "kernelspec": {
      "name": "python3",
      "language": "python",
      "display_name": "Python 3 (ipykernel)",
      "path": "/Users/kevinhav/projects/d606_final_project/.venv/share/jupyter/kernels/python3"
    }
  },
  "nbformat": 4,
  "nbformat_minor": 5
}